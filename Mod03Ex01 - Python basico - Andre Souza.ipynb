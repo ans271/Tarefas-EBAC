{
 "cells": [
  {
   "cell_type": "markdown",
   "metadata": {
    "id": "SEE0vQsW83yB"
   },
   "source": [
    "### 01 - Teste de gravidez\n",
    "Escreva uma célula com controle de fluxos que tem como premissa a existência das seguintes variáveis:\n",
    "\n",
    "- ```sexo``` como ```str``` indicando os valores '**M**' para masculino e '**F**' para feminino  \n",
    "- ```beta_hcg``` que indica a quantidade do beta-HCG no sangue em mUI/mL.\n",
    "\n",
    "A sua tarefa é escrever um código que imprima como resultado \"indivíduo do sexo masculino\" quando sexo = 'M', caso sexo = 'F', se o valor de beta-HCG for maior que 5, retorne \"Positivo\" indicando que a paciente está grávida, e retorne \"Negativo\" caso contrário.\n",
    "\n",
    "Não mexa nos valores da variável ```sexo``` nem em ```beta_hcg```, e escreva um código que funcione para quaisquer valores possíveis de ambos: ```sexo``` = '**M**' ou '**F**' e ```beta_hcg``` assumindo valores inteiros positivos."
   ]
  },
  {
   "cell_type": "code",
   "execution_count": null,
   "metadata": {
    "id": "cTOc4LG683yE"
   },
   "outputs": [],
   "source": [
    "sexo = 'M'\n",
    "beta_hcg = 0\n",
    "\n",
    "# seu código vem abaixo desta linha\n",
    "import time\n",
    "\n",
    "tentativas = 0\n",
    "print(\"TESTE DE GRAVIDEZ\")\n",
    "print(\"===================\")\n",
    "while sexo == 'M': #Loop para permitir outras tentativas em caso de sexo masculino ou erro de inserção\n",
    "    if tentativas == 3:\n",
    "        print('Você excedeu o número de tentativas!')\n",
    "        break\n",
    "    else:\n",
    "        sexo = input('Qual é o seu sexo?\\nObs.: Responda apenas com \"M\" para Masculino ou \"F\" para Feminino.').capitalize()\n",
    "        if sexo == 'M':\n",
    "            print('Você é homem, portanto não pode realizar o teste!')\n",
    "            tentativas += 1\n",
    "            time.sleep(2)\n",
    "        elif sexo == 'F':\n",
    "            beta_hcg = int(input('Por favor, informe o valor de beta-HCG.'))\n",
    "            if beta_hcg > 5:\n",
    "                print('Resultado: POSITIVO')\n",
    "                time.sleep(1)\n",
    "                print('Parabéns, você está grávida!!!')\n",
    "            else:\n",
    "                print('Resultado: NEGATIVO')\n",
    "        else:\n",
    "            print('Por favor, siga as instruções do teste!')\n",
    "            time.sleep(2)\n",
    "            sexo = 'M'\n",
    "            tentativas += 1"
   ]
  },
  {
   "cell_type": "markdown",
   "metadata": {
    "id": "uCoIZDE383yF"
   },
   "source": [
    "### 02 - Renomeando variáveis\n",
    "\n",
    "Vamos ver adiante que uma forma de renomear variáveis de um conjunto de dados é através de dicionários - o dicionário deve conter como chave o nome original, associando a cada chave um único valor (tipo *str*) que contenha o nome novo.\n",
    "\n",
    "A sua tarefa é escrever um dicionário que possa ser utilizado para traduzir as variáveis ```name``` (nome), ```age``` (idade) e ```income``` (renda). Ou seja, esse dicionário deve relacionar as chaves *name, age* e *income* às suas respectivas traduções."
   ]
  },
  {
   "cell_type": "code",
   "execution_count": null,
   "metadata": {
    "id": "Bh6ijpbu83yG",
    "outputId": "58fbd8da-ed1d-4e05-df85-041c821948f2"
   },
   "outputs": [],
   "source": [
    "dic_renomeacao = {'name': 'Joaquim', 'age': 35, 'income': 8000.00}\n",
    "dic_renomeacao"
   ]
  },
  {
   "cell_type": "markdown",
   "metadata": {
    "id": "95zumO5g83yH"
   },
   "source": [
    "### 03 - É divisível?\n",
    "A sua tarefa é escrever um código que indique se um número ```N``` é divisível por um número P. Escreva um programa que faça essa verificação para quaisquer combinações de ```N``` e ```M``` e devolva uma mensagem indicativa no output."
   ]
  },
  {
   "cell_type": "code",
   "execution_count": null,
   "metadata": {
    "id": "BR2zOhmN83yI"
   },
   "outputs": [],
   "source": [
    "N = 42\n",
    "M = 7\n",
    "#Seu código\n",
    "try:\n",
    "    P = int(input('Digite um número para P:'))\n",
    "    sucesso = \"Operação de sucesso: \"\n",
    "    cont = 0 # contagem para verificar se algumas das operações foi possível\n",
    "except ValueError:\n",
    "    print(\"Ops! Parece que você digitou algo errado.\")\n",
    "try:\n",
    "    if N*M%P == 0:\n",
    "        print(sucesso+'Produto')\n",
    "        print('N*M =', N*M, '->', N*M, '/P =', N*M/P)\n",
    "        print('------------------------')\n",
    "        cont += 1\n",
    "    if N/M%P == 0:\n",
    "        print(sucesso+'Divisão')\n",
    "        print('N/M =', N/M, '->', N/M, '/P =', N/M/P)\n",
    "        print('------------------------')\n",
    "        cont += 1\n",
    "    if (N+M)%P == 0:\n",
    "        print(sucesso+'Soma')\n",
    "        print('N+M =', N+M, '->', N+M, '/P =', N+M/P)\n",
    "        print('------------------------')\n",
    "        cont += 1\n",
    "    if (N-M)%P == 0:\n",
    "        print(sucesso+'Subtração')\n",
    "        print('N-M =', N-M, '->', N-M, '/P =', N-M/P)\n",
    "        print('------------------------')\n",
    "        cont += 1\n",
    "    if cont == 0:\n",
    "        print('Não há nenhuma combinação de N e M divisível pelo número P fornecido.')\n",
    "except ZeroDivisionError:\n",
    "    print(\"Não é possível dividir nenhum número por zero.\")\n",
    "except NameError:\n",
    "    print(\"Certifique-se de digitar um número.\")"
   ]
  },
  {
   "cell_type": "markdown",
   "metadata": {
    "id": "0d5Kdrz283yJ"
   },
   "source": [
    "### 04 - Números primos\n",
    "> Um número **N** é primo se e somente se é divisível por 1, -1, por **N** e por -**N**.  \n",
    "\n",
    "Escreva um script que verifica se ```N``` é um número primo, verificando se ```N``` é divisível por todos os números de ```1``` a ```N-1```. Você vai precisar usar alguma ferramenta de *loop* que você aprendeu para isto. No final, devolva uma mensagem no output indicando se o número é primo ou não."
   ]
  },
  {
   "cell_type": "code",
   "execution_count": null,
   "metadata": {
    "id": "h_lFO-EO83yJ"
   },
   "outputs": [],
   "source": [
    "N = 7\n",
    "\n",
    "# seu código abaixo\n",
    "numeros = []\n",
    "\n",
    "for n in range(-N,N+1):\n",
    "    try:\n",
    "        if N%n == 0:\n",
    "            numeros.append(n)\n",
    "    except ZeroDivisionError:\n",
    "        continue\n",
    "        \n",
    "if len(numeros) == 4:\n",
    "    print(f\"{N} é um número primo.\")\n",
    "    print(f'Números divisíveis por {N}:')\n",
    "    print(numeros)\n",
    "else:\n",
    "    print(f'O número {N} não é primo.')"
   ]
  },
  {
   "cell_type": "markdown",
   "metadata": {
    "id": "zHwDnURO83yK"
   },
   "source": [
    "### 05 - Desafio\n",
    "O algorítmo do exercício anterior não é o mais eficiente. O que você pode fazer para deixá-lo mais eficiente? Ou seja, executar menos comparações, portanto consumir menos tempo.\n",
    "1. Será que precisamos correr o loop até o final sempre?\n",
    "2. Será que precisamos mesmo verificar **todos** os números?\n",
    "3. Será que precisamos ir até N-1?\n",
    "\n",
    "Essas perguntas levam ao tipo de pensamento voltado a deixar um algoritmo mais eficiente. Veja se você consegue melhorar o seu."
   ]
  },
  {
   "cell_type": "code",
   "execution_count": null,
   "metadata": {
    "id": "DDdwfZOL83yM"
   },
   "outputs": [],
   "source": [
    "N = 1\n",
    "\n",
    "# seu código aqui\n",
    "numeros = []\n",
    "# testamos se N, além dos números permitidos, é divisível pertence ao conjunto dos números pares.\n",
    "try:\n",
    "    if N%1 == 0:\n",
    "        n = N//1\n",
    "        numeros.append(n)\n",
    "    if N%-1 == 0:\n",
    "        n = N//-1\n",
    "        numeros.append(n)\n",
    "    if N%N == 0:\n",
    "        n = N//N\n",
    "        numeros.append(n)\n",
    "    if N%-N == 0:\n",
    "        n = N//-N\n",
    "        numeros.append(n)\n",
    "    if N%2 == 0:\n",
    "        n = N//2\n",
    "        numeros.append(n)\n",
    "except ZeroDivisionError:\n",
    "    print(\"O número 0 é nulo;\") # nenhum número pode ser divido por zero, apesar disso, ele é nulo.\n",
    "\n",
    "if len(numeros) == 4 & N != 1: # apesar do número 1 atender todas as restrições ele não é primo.\n",
    "    print(f\"{N} é um número primo.\")\n",
    "    print(f'Números divisíveis por {N}:')\n",
    "    print(numeros)\n",
    "elif N == 1:\n",
    "    print(f'O número {N} é neutro;')\n",
    "    print(f'O número {N} não é primo.')\n",
    "elif N == 2: # apesar do número dois pertencer ao conjunto dos números pares, ele ainda é um número primo.\n",
    "    print(f\"{N} é um número primo.\")\n",
    "    print(f'Números divisíveis por {N}:')\n",
    "    numeros.pop()\n",
    "    print(numeros)\n",
    "else:\n",
    "    print(f'O número {N} não é primo.')"
   ]
  },
  {
   "cell_type": "markdown",
   "metadata": {
    "id": "4zhVSQan83yN"
   },
   "source": [
    "### 06 - Peso ideal 1\n",
    "O IMC (índice de massa corpórea) é um indicador de saúde mais bem aceito que o peso. Ele é calculado como:\n",
    "\n",
    "$$ IMC = \\dfrac{peso}{altura^2}$$\n",
    "\n",
    "Segundo a OMS, valores *normais* são entre 18.5 e 24.9.\n",
    "\n",
    "Sua tarefa é encontrar o ponto médio dessa faixa."
   ]
  },
  {
   "cell_type": "code",
   "execution_count": null,
   "metadata": {
    "id": "3DzxicN983yO",
    "outputId": "6a947e58-88b2-4764-a9ca-717b971adb3d"
   },
   "outputs": [],
   "source": [
    "imc_ideal = (18.5+24.9)/2\n",
    "imc_ideal"
   ]
  },
  {
   "cell_type": "markdown",
   "metadata": {
    "id": "Z8uBOym483yP"
   },
   "source": [
    "### 07 - Peso ideal 2\n",
    "Recebendo um valor de altura, encontre o peso '*ideal*' dessa pessoa, que fornece o IMC encontrado acima"
   ]
  },
  {
   "cell_type": "code",
   "execution_count": null,
   "metadata": {
    "id": "rrNwycte83yP",
    "outputId": "0e63b2ff-3743-48c7-a472-b48a450a0867"
   },
   "outputs": [],
   "source": [
    "altura = 1.70\n",
    "\n",
    "# Seu código\n",
    "peso_ideal = round(imc_ideal*altura**2,2)\n",
    "peso_ideal"
   ]
  },
  {
   "cell_type": "markdown",
   "metadata": {
    "id": "zEdM6J_i83yP"
   },
   "source": [
    "### 08 - Peso ideal 3\n",
    "Dada uma lista contendo as alturas de pacientes, crie uma nova lista que contenha o peso '*ideal*' (que fornece o IMC calculado em **Peso ideal 1**) desses pacientes."
   ]
  },
  {
   "cell_type": "code",
   "execution_count": null,
   "metadata": {
    "id": "KN1mB_My83yQ",
    "outputId": "f070d54d-c156-4546-e3c7-b5bc500059d9"
   },
   "outputs": [],
   "source": [
    "lista_alturas = [1.95, 2.05, 1.70, 1.65]\n",
    "\n",
    "lista_peso_ideal = []\n",
    "\n",
    "# seu código\n",
    "for altura in lista_alturas:\n",
    "    lista_peso_ideal.append(round(imc_ideal*altura**2,2))\n",
    "    \n",
    "lista_peso_ideal"
   ]
  },
  {
   "cell_type": "markdown",
   "metadata": {
    "id": "8OKAtYQM83yQ"
   },
   "source": [
    "### 09 - Peso ideal 4\n",
    "Dada uma lista de tuplas - cada elemento da lista é uma tupla contendo altura e peso de um paciente - crie uma nova lista com o IMC desses pacientes."
   ]
  },
  {
   "cell_type": "code",
   "execution_count": null,
   "metadata": {
    "id": "FaXgkjzI83yQ",
    "outputId": "8adc5e59-8a72-42db-db6b-6895587e875e"
   },
   "outputs": [],
   "source": [
    "altura_peso = [(1.80, 90), (1.65, 75), (1.91, 70)]\n",
    "\n",
    "imc = []\n",
    "\n",
    "# seu código\n",
    "for tupla in altura_peso:\n",
    "    imc.append(round(tupla[1]/tupla[0]**2,1))\n",
    "\n",
    "imc"
   ]
  },
  {
   "cell_type": "markdown",
   "metadata": {
    "id": "kZdSJqJq83yR"
   },
   "source": [
    "### 10 - Peso ideal 5\n",
    "Dada uma lista de **listas** - cada elemento da lista é uma **lista** contendo altura e peso de um paciente, adicione mais um elemento à lista de cada paciente contendo o IMC do paciente. Verifique também se é 'baixo', 'normal' ou 'alto' segundo os padrões da OMS em que normal é entre 18.5 e 24.9.\n",
    "\n",
    "Reflexão: por que no problema anterior temos que criar uma nova lista, e não podemos adicionar os dados de cada indivíduo à tupla?"
   ]
  },
  {
   "cell_type": "code",
   "execution_count": null,
   "metadata": {
    "id": "EwszojP283yR"
   },
   "outputs": [],
   "source": [
    "altura_peso = [[1.80, 90], [1.65, 75], [1.91, 70]]\n",
    "\n",
    "# seu código\n",
    "i = 0 # índice da lista 'altura_peso'\n",
    "for lista in altura_peso:\n",
    "    altura_peso[i].append(round(lista[1]/lista[0]**2,1))\n",
    "    if lista[2] > 24.9:\n",
    "        altura_peso[n].append('alto')\n",
    "    elif lista [2] < 18.5:\n",
    "        altura_peso[i].append('baixo')\n",
    "    else:\n",
    "        altura_peso[i].append('normal')\n",
    "    n += 1\n",
    "altura_peso\n",
    "# na tupla não podemos adicionar os dados pois ela é imutável"
   ]
  }
 ],
 "metadata": {
  "colab": {
   "collapsed_sections": [],
   "provenance": []
  },
  "kernelspec": {
   "display_name": "Python 3 (ipykernel)",
   "language": "python",
   "name": "python3"
  },
  "language_info": {
   "codemirror_mode": {
    "name": "ipython",
    "version": 3
   },
   "file_extension": ".py",
   "mimetype": "text/x-python",
   "name": "python",
   "nbconvert_exporter": "python",
   "pygments_lexer": "ipython3",
   "version": "3.12.4"
  }
 },
 "nbformat": 4,
 "nbformat_minor": 4
}
